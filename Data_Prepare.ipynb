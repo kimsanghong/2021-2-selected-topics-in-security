{
 "cells": [
  {
   "cell_type": "code",
   "execution_count": null,
   "id": "positive-diana",
   "metadata": {},
   "outputs": [],
   "source": [
    "import numpy as np\n",
    "import pandas as pd\n",
    "import matplotlib.pyplot as plt\n",
    "import seaborn as sns\n",
    "import math\n",
    "import tqdm"
   ]
  },
  {
   "cell_type": "code",
   "execution_count": null,
   "id": "elementary-recycling",
   "metadata": {},
   "outputs": [],
   "source": [
    "data = pd.read_csv(\"class_data.csv\")\n",
    "data.head()"
   ]
  },
  {
   "cell_type": "code",
   "execution_count": null,
   "id": "devoted-intervention",
   "metadata": {},
   "outputs": [],
   "source": [
    "data.Rdate.min(), data.Rdate.max()"
   ]
  },
  {
   "cell_type": "code",
   "execution_count": null,
   "id": "suspected-tomorrow",
   "metadata": {},
   "outputs": [],
   "source": [
    "data.shape"
   ]
  },
  {
   "cell_type": "code",
   "execution_count": null,
   "id": "married-buffalo",
   "metadata": {},
   "outputs": [],
   "source": [
    "data['src_net'] = data['src_ip'].apply(lambda x: \".\".join(x.split(\".\")[:-1]) + \".0\")\n",
    "data['dest_net'] = data['dest_ip'].apply(lambda x: \".\".join(x.split(\".\")[:-1]) + \".0\")"
   ]
  },
  {
   "cell_type": "markdown",
   "id": "velvet-texas",
   "metadata": {},
   "source": [
    "# outbounds"
   ]
  },
  {
   "cell_type": "code",
   "execution_count": null,
   "id": "brown-foundation",
   "metadata": {},
   "outputs": [],
   "source": [
    "outbounds = data[data.dest_country != 'KR']\n",
    "outbounds = outbounds[outbounds.src_country != 'US']\n",
    "# outbounds['protocol'] = outbounds['protocol'].apply(lambda x: 0 if x==17 else 1)\n",
    "# outbounds['src_country'] = outbounds['src_country'].apply(lambda x: 0 if x=='KR' else 1)\n",
    "# outbounds['action'] = outbounds['action'].apply(lambda x: 3 if x==0 else x)\n",
    "outbounds['Rdate'] = pd.to_datetime(outbounds.Rdate.apply(lambda x: str(x)), format=\"%Y%m%d%H%M%S.%f\")\n",
    "outbounds['dest_country'] = outbounds.dest_country.fillna(\"None\")\n",
    "outbounds = outbounds[['Rdate','src_net','dest_net','protocol','src_port','dest_port','action','src_country','dest_country']]\n",
    "outbounds"
   ]
  },
  {
   "cell_type": "code",
   "execution_count": null,
   "id": "essential-sculpture",
   "metadata": {},
   "outputs": [],
   "source": [
    "WINDOW_SIZE = 3\n",
    "win_agg = {}\n",
    "\n",
    "for hour in range((WINDOW_SIZE-1), 24):\n",
    "    start = pd.to_datetime(f\"20210410{str(hour-(WINDOW_SIZE-1)).zfill(2)}0000.00\", format=\"%Y%m%d%H%M%S.%f\")\n",
    "    end = pd.to_datetime(f\"20210410{str(hour).zfill(2)}5959.99\", format=\"%Y%m%d%H%M%S.%f\")\n",
    "    x = outbounds[(outbounds.Rdate >= start) & (outbounds.Rdate <= end)]\n",
    "    tmp = [(np.cumsum(x[col].value_counts(ascending=True)) / x.shape[0]) for col in ['dest_net', 'dest_port', 'dest_country']]\n",
    "    win_agg[(10,hour)] = tmp\n",
    "        \n",
    "for hour in range(0, (WINDOW_SIZE-1)):\n",
    "    start = pd.to_datetime(f\"20210410{str(24+hour-(WINDOW_SIZE-1)).zfill(2)}0000.00\", format=\"%Y%m%d%H%M%S.%f\")\n",
    "    end = pd.to_datetime(f\"20210411{str(hour).zfill(2)}5959.99\", format=\"%Y%m%d%H%M%S.%f\")\n",
    "    x = outbounds[(outbounds.Rdate >= start) & (outbounds.Rdate <= end)]\n",
    "    tmp = [(np.cumsum(x[col].value_counts(ascending=True)) / x.shape[0]) for col in ['dest_net', 'dest_port', 'dest_country']]\n",
    "    win_agg[(11,hour)] = tmp\n",
    "    \n",
    "for hour in range((WINDOW_SIZE-1), 24):\n",
    "    start = pd.to_datetime(f\"20210411{str(hour-(WINDOW_SIZE-1)).zfill(2)}0000.00\", format=\"%Y%m%d%H%M%S.%f\")\n",
    "    end = pd.to_datetime(f\"20210411{str(hour).zfill(2)}5959.99\", format=\"%Y%m%d%H%M%S.%f\")\n",
    "    x = outbounds[(outbounds.Rdate >= start) & (outbounds.Rdate <= end)]\n",
    "    tmp = [(np.cumsum(x[col].value_counts(ascending=True)) / x.shape[0]) for col in ['dest_net', 'dest_port', 'dest_country']]\n",
    "    win_agg[(11,hour)] = tmp"
   ]
  },
  {
   "cell_type": "code",
   "execution_count": null,
   "id": "religious-independence",
   "metadata": {},
   "outputs": [],
   "source": [
    "# 데이터에서 Rdate 에 해당하는 윈도우로부터 dest_net, dest_port, dest_country 각 cdf 값 반환\n",
    "def get_cdf(seq):\n",
    "    rdate, net, port, cty = seq.Rdate, seq.dest_net, seq.dest_port, seq.dest_country\n",
    "    window = win_agg[(rdate.day,rdate.hour)]\n",
    "    return window[0][net], window[1][port], window[2][cty]"
   ]
  },
  {
   "cell_type": "code",
   "execution_count": null,
   "id": "advisory-actor",
   "metadata": {},
   "outputs": [],
   "source": [
    "target = outbounds[outbounds.Rdate > pd.to_datetime(f\"20210410{str(WINDOW_SIZE-1).zfill(2)}0000.00\", format=\"%Y%m%d%H%M%S.%f\")]\n",
    "x = pd.DataFrame(index=target.index, columns=['dest_net','dest_port','dest_country'], data=[get_cdf(target.loc[i,:]) for i in tqdm.tqdm(target.index)])\n",
    "x['src_net'] = target.src_net\n",
    "x = x[['src_net','dest_net','dest_port','dest_country']]\n",
    "x"
   ]
  },
  {
   "cell_type": "code",
   "execution_count": null,
   "id": "oriental-advocacy",
   "metadata": {},
   "outputs": [],
   "source": [
    "target = outbounds[outbounds.Rdate > pd.to_datetime(f\"20210410{str(WINDOW_SIZE-1).zfill(2)}0000.00\", format=\"%Y%m%d%H%M%S.%f\")]\n",
    "\n",
    "for SEQ_LEN in [10,20,30,40,50]:\n",
    "    BASE = 1\n",
    "    sequences = []\n",
    "    sequence_match = []\n",
    "    seq_builder = {net:[[]]+[0 for i in range(BASE)] for net in target.src_net.unique()}\n",
    "\n",
    "    for i in tqdm.tqdm(target.index):\n",
    "        tmp = target.loc[i,:]\n",
    "        seq = seq_builder[tmp.src_net]\n",
    "\n",
    "        seq[0].append(i)\n",
    "        seq[1] += tmp.action       # none/deny == 1, allow == 0\n",
    "    #     seq[2] += tmp.protocol     # tcp == 1, udp == 0\n",
    "    #     seq[3] += tmp.src_country  # None == 1, KR == 0\n",
    "        for return_value in get_cdf(tmp):\n",
    "            seq.append(return_value)\n",
    "\n",
    "        if len(seq) == 1 + BASE + SEQ_LEN * 3:\n",
    "            for j in range(1, BASE+1):\n",
    "                seq[j] /= SEQ_LEN\n",
    "            sequences.append(seq[1:])\n",
    "            sequence_match.append([tmp.src_net] + seq[0])\n",
    "            seq_builder[tmp.src_net] = [[]] + [0 for _ in range(BASE)]\n",
    "    \n",
    "    \n",
    "    col = ['actions']\n",
    "    for i in range(SEQ_LEN):\n",
    "        col.append(f'q{i+1}_net')\n",
    "        col.append(f'q{i+1}_port')\n",
    "        col.append(f'q{i+1}_cty')\n",
    "\n",
    "    assert len(col) == BASE + SEQ_LEN*3, \"column length unmatching\"\n",
    "    table = pd.DataFrame(data=sequences, columns=col)\n",
    "    \n",
    "    save_pth = f\"_SEQ_{str(SEQ_LEN).zfill(2)}_WIN_{str(WINDOW_SIZE).zfill(2)}\"\n",
    "    table.to_csv(\"pjdata/data\" + save_pth + \".csv\", index=False)\n",
    "    with open(\"pjdata/match\" + save_pth + \".pickle\", \"wb\") as f:\n",
    "        pickle.dump(sequence_match, f)"
   ]
  },
  {
   "cell_type": "code",
   "execution_count": null,
   "id": "sublime-italy",
   "metadata": {},
   "outputs": [],
   "source": [
    "# col = ['actions','protocol','src_cty']\n",
    "col = ['actions']\n",
    "for i in range(SEQ_LEN):\n",
    "    col.append(f'q{i+1}_net')\n",
    "    col.append(f'q{i+1}_port')\n",
    "    col.append(f'q{i+1}_cty')\n",
    "\n",
    "assert len(col) == BASE + SEQ_LEN*3, \"column length unmatching\"\n",
    "table = pd.DataFrame(data=sequences, columns=col)\n",
    "table"
   ]
  },
  {
   "cell_type": "markdown",
   "id": "cellular-march",
   "metadata": {},
   "source": [
    "# inbounds"
   ]
  },
  {
   "cell_type": "code",
   "execution_count": null,
   "id": "latter-pittsburgh",
   "metadata": {},
   "outputs": [],
   "source": [
    "import warnings\n",
    "warnings.filterwarnings(action='ignore')\n",
    "data = pd.read_csv(\"class_data.csv\")\n",
    "data['src_net'] = data['src_ip'].apply(lambda x: \".\".join(x.split(\".\")[:-1]) + \".0\")\n",
    "data['dest_net'] = data['dest_ip'].apply(lambda x: \".\".join(x.split(\".\")[:-1]) + \".0\")\n",
    "inbounds = data[data.dest_country == 'KR']\n",
    "inbounds['protocol'] = inbounds['protocol'].apply(lambda x: 0 if x==17 else 1)\n",
    "inbounds['action'] = inbounds['action'].apply(lambda x: 3 if x==0 else x)\n",
    "inbounds['Rdate'] = pd.to_datetime(inbounds.Rdate.apply(lambda x: str(x)), format=\"%Y%m%d%H%M%S.%f\")\n",
    "inbounds['src_country'] = inbounds.src_country.fillna(\"None\")\n",
    "inbounds = inbounds[['Rdate','src_country','src_net','dest_net','dest_port','protocol','action']]\n",
    "inbounds"
   ]
  },
  {
   "cell_type": "code",
   "execution_count": null,
   "id": "extended-packaging",
   "metadata": {},
   "outputs": [],
   "source": [
    "WINDOW_SIZE = 6\n",
    "win_agg = {}\n",
    "\n",
    "for hour in range((WINDOW_SIZE-1), 24):\n",
    "    start = pd.to_datetime(f\"20210410{str(hour-(WINDOW_SIZE-1)).zfill(2)}0000.00\", format=\"%Y%m%d%H%M%S.%f\")\n",
    "    end = pd.to_datetime(f\"20210410{str(hour).zfill(2)}5959.99\", format=\"%Y%m%d%H%M%S.%f\")\n",
    "    x = inbounds[(inbounds.Rdate >= start) & (inbounds.Rdate <= end)]\n",
    "    tmp = [(np.cumsum(x[col].value_counts(ascending=True)) / x.shape[0]) for col in ['src_net', 'dest_port', 'src_country']]\n",
    "    win_agg[(10,hour)] = tmp\n",
    "        \n",
    "for hour in range(0, (WINDOW_SIZE-1)):\n",
    "    start = pd.to_datetime(f\"20210410{str(24+hour-(WINDOW_SIZE-1)).zfill(2)}0000.00\", format=\"%Y%m%d%H%M%S.%f\")\n",
    "    end = pd.to_datetime(f\"20210411{str(hour).zfill(2)}5959.99\", format=\"%Y%m%d%H%M%S.%f\")\n",
    "    x = inbounds[(inbounds.Rdate >= start) & (inbounds.Rdate <= end)]\n",
    "    tmp = [(np.cumsum(x[col].value_counts(ascending=True)) / x.shape[0]) for col in ['src_net', 'dest_port', 'src_country']]\n",
    "    win_agg[(11,hour)] = tmp\n",
    "    \n",
    "for hour in range((WINDOW_SIZE-1), 24):\n",
    "    start = pd.to_datetime(f\"20210411{str(hour-(WINDOW_SIZE-1)).zfill(2)}0000.00\", format=\"%Y%m%d%H%M%S.%f\")\n",
    "    end = pd.to_datetime(f\"20210411{str(hour).zfill(2)}5959.99\", format=\"%Y%m%d%H%M%S.%f\")\n",
    "    x = inbounds[(inbounds.Rdate >= start) & (inbounds.Rdate <= end)]\n",
    "    tmp = [(np.cumsum(x[col].value_counts(ascending=True)) / x.shape[0]) for col in ['src_net', 'dest_port', 'src_country']]\n",
    "    win_agg[(11,hour)] = tmp"
   ]
  },
  {
   "cell_type": "code",
   "execution_count": null,
   "id": "hearing-practice",
   "metadata": {},
   "outputs": [],
   "source": [
    "def get_cdf(seq):\n",
    "    rdate, net, port, cty = seq.Rdate, seq.src_net, seq.dest_port, seq.src_country\n",
    "    window = win_agg[(rdate.day,rdate.hour)]\n",
    "    return window[0][net], window[1][port], window[2][cty]"
   ]
  },
  {
   "cell_type": "code",
   "execution_count": null,
   "id": "adjusted-prince",
   "metadata": {},
   "outputs": [],
   "source": [
    "target = inbounds[inbounds.Rdate > pd.to_datetime(f\"20210410{str(WINDOW_SIZE-1).zfill(2)}0000.00\", format=\"%Y%m%d%H%M%S.%f\")]\n",
    "\n",
    "for SEQ_LEN in [10,20,30,40,50]:\n",
    "    BASE = 1\n",
    "    sequences = []\n",
    "    sequence_match = []\n",
    "    seq_builder = {net:[[]]+[0 for i in range(BASE)] for net in target.dest_net.unique()}\n",
    "\n",
    "    for i in tqdm.tqdm(target.index):\n",
    "        tmp = target.loc[i,:]\n",
    "        seq = seq_builder[tmp.dest_net]\n",
    "\n",
    "        seq[0].append(i)\n",
    "        seq[1] += tmp.action       # none/deny == 1, allow == 0\n",
    "    #     seq[2] += tmp.protocol     # tcp == 1, udp == 0\n",
    "    #     seq[3] += tmp.src_country  # None == 1, KR == 0\n",
    "        for return_value in get_cdf(tmp):\n",
    "            seq.append(return_value)\n",
    "\n",
    "        if len(seq) == 1 + BASE + SEQ_LEN * 3:\n",
    "            for j in range(1, BASE+1):\n",
    "                seq[j] /= SEQ_LEN\n",
    "            sequences.append(seq[1:])\n",
    "            sequence_match.append([tmp.dest_net] + seq[0])\n",
    "            seq_builder[tmp.dest_net] = [[]] + [0 for _ in range(BASE)]\n",
    "    \n",
    "    \n",
    "    col = ['actions']\n",
    "    for i in range(SEQ_LEN):\n",
    "        col.append(f'q{i+1}_net')\n",
    "        col.append(f'q{i+1}_port')\n",
    "        col.append(f'q{i+1}_cty')\n",
    "\n",
    "    assert len(col) == BASE + SEQ_LEN*3, \"column length unmatching\"\n",
    "    table = pd.DataFrame(data=sequences, columns=col)\n",
    "    \n",
    "    save_pth = f\"_SEQ_{str(SEQ_LEN).zfill(2)}_WIN_{str(WINDOW_SIZE).zfill(2)}\"\n",
    "    table.to_csv(\"pjdata/dataIN\" + save_pth + \".csv\", index=False)\n",
    "    with open(\"pjdata/matchIN\" + save_pth + \".pickle\", \"wb\") as f:\n",
    "        pickle.dump(sequence_match, f)"
   ]
  }
 ],
 "metadata": {
  "kernelspec": {
   "display_name": "Python 3",
   "language": "python",
   "name": "python3"
  },
  "language_info": {
   "codemirror_mode": {
    "name": "ipython",
    "version": 3
   },
   "file_extension": ".py",
   "mimetype": "text/x-python",
   "name": "python",
   "nbconvert_exporter": "python",
   "pygments_lexer": "ipython3",
   "version": "3.8.10"
  }
 },
 "nbformat": 4,
 "nbformat_minor": 5
}
